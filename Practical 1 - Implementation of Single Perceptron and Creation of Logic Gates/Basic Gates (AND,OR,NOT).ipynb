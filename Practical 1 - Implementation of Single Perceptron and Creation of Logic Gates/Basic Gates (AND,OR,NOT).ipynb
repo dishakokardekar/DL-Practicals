{
 "cells": [
  {
   "cell_type": "code",
   "execution_count": 1,
   "id": "af870e1a",
   "metadata": {},
   "outputs": [
    {
     "name": "stdout",
     "output_type": "stream",
     "text": [
      "AND Gate:\n",
      "0 AND 0 = 0\n",
      "0 AND 1 = 1\n",
      "1 AND 0 = 1\n",
      "1 AND 1 = 1\n",
      "\n",
      "OR Gate:\n",
      "0 OR 0 = 0\n",
      "0 OR 1 = 1\n",
      "1 OR 0 = 1\n",
      "1 OR 1 = 1\n",
      "\n",
      "NOT Gate:\n",
      "NOT 0 = 1\n",
      "NOT 1 = 0\n"
     ]
    }
   ],
   "source": [
    "import numpy as np\n",
    "\n",
    "class Perceptron:\n",
    "    def __init__(self, input_size, learning_rate=0.1):\n",
    "        self.weights = np.zeros(input_size)\n",
    "        self.bias = 0\n",
    "        self.learning_rate = learning_rate\n",
    "\n",
    "    def activation(self, x):\n",
    "        return 1 if x >= 0 else 0\n",
    "\n",
    "    def predict(self, inputs):\n",
    "        weighted_sum = np.dot(inputs, self.weights) + self.bias\n",
    "        return self.activation(weighted_sum)\n",
    "\n",
    "    def train(self, training_inputs, labels, epochs):\n",
    "        for _ in range(epochs):\n",
    "            for inputs, label in zip(training_inputs, labels):\n",
    "                prediction = self.predict(inputs)\n",
    "                self.weights += self.learning_rate * (label - prediction) * inputs\n",
    "                self.bias += self.learning_rate * (label - prediction)\n",
    "\n",
    "# AND Gate\n",
    "def AND_gate(x1, x2):\n",
    "    inputs = np.array([x1, x2])\n",
    "    perceptron = Perceptron(2)\n",
    "    perceptron.weights = np.array([0.5, 0.5])\n",
    "    perceptron.bias = -0.5\n",
    "    return perceptron.predict(inputs)\n",
    "\n",
    "# OR Gate\n",
    "def OR_gate(x1, x2):\n",
    "    inputs = np.array([x1, x2])\n",
    "    perceptron = Perceptron(2)\n",
    "    perceptron.weights = np.array([0.5, 0.5])\n",
    "    perceptron.bias = -0.4  # Can be adjusted to change the bias\n",
    "    return perceptron.predict(inputs)\n",
    "\n",
    "# NOT Gate\n",
    "def NOT_gate(x):\n",
    "    inputs = np.array([x])\n",
    "    perceptron = Perceptron(1)\n",
    "    perceptron.weights = np.array([-1])\n",
    "    perceptron.bias = 0.5\n",
    "    return perceptron.predict(inputs)\n",
    "\n",
    "# AND gate\n",
    "print(\"AND Gate:\")\n",
    "print(\"0 AND 0 =\", AND_gate(0, 0))\n",
    "print(\"0 AND 1 =\", AND_gate(0, 1))\n",
    "print(\"1 AND 0 =\", AND_gate(1, 0))\n",
    "print(\"1 AND 1 =\", AND_gate(1, 1))\n",
    "\n",
    "# OR gate\n",
    "print(\"\\nOR Gate:\")\n",
    "print(\"0 OR 0 =\", OR_gate(0, 0))\n",
    "print(\"0 OR 1 =\", OR_gate(0, 1))\n",
    "print(\"1 OR 0 =\", OR_gate(1, 0))\n",
    "print(\"1 OR 1 =\", OR_gate(1, 1))\n",
    "\n",
    "# NOT gate\n",
    "print(\"\\nNOT Gate:\")\n",
    "print(\"NOT 0 =\", NOT_gate(0))\n",
    "print(\"NOT 1 =\", NOT_gate(1))\n"
   ]
  },
  {
   "cell_type": "code",
   "execution_count": null,
   "id": "54b13f4d",
   "metadata": {},
   "outputs": [],
   "source": []
  }
 ],
 "metadata": {
  "kernelspec": {
   "display_name": "Python 3",
   "language": "python",
   "name": "python3"
  },
  "language_info": {
   "codemirror_mode": {
    "name": "ipython",
    "version": 3
   },
   "file_extension": ".py",
   "mimetype": "text/x-python",
   "name": "python",
   "nbconvert_exporter": "python",
   "pygments_lexer": "ipython3",
   "version": "3.8.8"
  }
 },
 "nbformat": 4,
 "nbformat_minor": 5
}
