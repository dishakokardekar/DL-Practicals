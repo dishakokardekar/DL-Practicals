{
 "cells": [
  {
   "cell_type": "code",
   "execution_count": 4,
   "id": "b84f9250",
   "metadata": {},
   "outputs": [
    {
     "name": "stdout",
     "output_type": "stream",
     "text": [
      "Testing Binary Classification 1:\n",
      "0 0 => 0\n",
      "0 1 => 1\n",
      "1 0 => 1\n",
      "1 1 => 1\n",
      "\n",
      "Testing Binary Classification 2:\n",
      "0 0 => 0\n",
      "0 1 => 0\n",
      "1 0 => 0\n",
      "1 1 => 1\n"
     ]
    }
   ],
   "source": [
    "import numpy as np\n",
    "\n",
    "class Perceptron:\n",
    "    def __init__(self, input_size, learning_rate=0.01):\n",
    "        self.weights = np.zeros(input_size)\n",
    "        self.bias = 0\n",
    "        self.learning_rate = learning_rate\n",
    "\n",
    "    def initialize_weights(self, input_size):\n",
    "        self.weights = np.zeros(input_size)\n",
    "        self.bias = 0\n",
    "\n",
    "    def activation(self, x):\n",
    "        return 1 if x >= 0 else 0\n",
    "\n",
    "    def predict(self, inputs):\n",
    "        weighted_sum = np.dot(inputs, self.weights) + self.bias\n",
    "        return self.activation(weighted_sum)\n",
    "\n",
    "    def update_weights(self, inputs, target):\n",
    "        prediction = self.predict(inputs)\n",
    "        error = target - prediction\n",
    "        self.weights += self.learning_rate * error * inputs\n",
    "        self.bias += self.learning_rate * error\n",
    "\n",
    "# Binary Classification 1\n",
    "def binary_classification_1(x1, x2):\n",
    "    inputs = np.array([x1, x2])\n",
    "    perceptron = Perceptron(2)\n",
    "    perceptron.initialize_weights(2)\n",
    "    perceptron.update_weights(inputs, 1 if x1 + x2 >= 1 else 0)\n",
    "    return perceptron.predict(inputs)\n",
    "\n",
    "# Binary Classification 2\n",
    "def binary_classification_2(x1, x2):\n",
    "    inputs = np.array([x1, x2])\n",
    "    perceptron = Perceptron(2)\n",
    "    perceptron.initialize_weights(2)\n",
    "    perceptron.update_weights(inputs, 1 if x1 * x2 >= 1 else 0)\n",
    "    return perceptron.predict(inputs)\n",
    "\n",
    "# Testing Binary Classification 1\n",
    "def test_binary_classification_1():\n",
    "    print(\"Testing Binary Classification 1:\")\n",
    "    print(\"0 0 =>\", binary_classification_1(0, 0))\n",
    "    print(\"0 1 =>\", binary_classification_1(0, 1))\n",
    "    print(\"1 0 =>\", binary_classification_1(1, 0))\n",
    "    print(\"1 1 =>\", binary_classification_1(1, 1))\n",
    "\n",
    "# Testing Binary Classification 2\n",
    "def test_binary_classification_2():\n",
    "    print(\"\\nTesting Binary Classification 2:\")\n",
    "    print(\"0 0 =>\", binary_classification_2(0, 0))\n",
    "    print(\"0 1 =>\", binary_classification_2(0, 1))\n",
    "    print(\"1 0 =>\", binary_classification_2(1, 0))\n",
    "    print(\"1 1 =>\", binary_classification_2(1, 1))\n",
    "\n",
    "if __name__ == \"__main__\":\n",
    "    test_binary_classification_1()\n",
    "    test_binary_classification_2()\n"
   ]
  }
 ],
 "metadata": {
  "kernelspec": {
   "display_name": "Python 3",
   "language": "python",
   "name": "python3"
  },
  "language_info": {
   "codemirror_mode": {
    "name": "ipython",
    "version": 3
   },
   "file_extension": ".py",
   "mimetype": "text/x-python",
   "name": "python",
   "nbconvert_exporter": "python",
   "pygments_lexer": "ipython3",
   "version": "3.8.8"
  }
 },
 "nbformat": 4,
 "nbformat_minor": 5
}
