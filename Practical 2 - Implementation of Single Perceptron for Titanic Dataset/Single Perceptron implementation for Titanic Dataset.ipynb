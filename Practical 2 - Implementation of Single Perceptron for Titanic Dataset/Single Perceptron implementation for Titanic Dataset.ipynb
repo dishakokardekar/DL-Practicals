{
 "cells": [
  {
   "cell_type": "code",
   "execution_count": 1,
   "id": "dccf2383",
   "metadata": {},
   "outputs": [],
   "source": [
    "import pandas as pd\n",
    "file_path = 'C:\\\\Users\\\\91901\\\\Downloads\\\\cleaned_titanic (1).csv'\n",
    "df = pd.read_csv(file_path)\n"
   ]
  },
  {
   "cell_type": "code",
   "execution_count": 2,
   "id": "80582fc6",
   "metadata": {},
   "outputs": [
    {
     "data": {
      "text/html": [
       "<div>\n",
       "<style scoped>\n",
       "    .dataframe tbody tr th:only-of-type {\n",
       "        vertical-align: middle;\n",
       "    }\n",
       "\n",
       "    .dataframe tbody tr th {\n",
       "        vertical-align: top;\n",
       "    }\n",
       "\n",
       "    .dataframe thead th {\n",
       "        text-align: right;\n",
       "    }\n",
       "</style>\n",
       "<table border=\"1\" class=\"dataframe\">\n",
       "  <thead>\n",
       "    <tr style=\"text-align: right;\">\n",
       "      <th></th>\n",
       "      <th>Unnamed: 0</th>\n",
       "      <th>sex</th>\n",
       "      <th>age</th>\n",
       "      <th>sibsp</th>\n",
       "      <th>parch</th>\n",
       "      <th>fare</th>\n",
       "      <th>embarked</th>\n",
       "      <th>class</th>\n",
       "      <th>who</th>\n",
       "      <th>alone</th>\n",
       "      <th>survived</th>\n",
       "    </tr>\n",
       "  </thead>\n",
       "  <tbody>\n",
       "    <tr>\n",
       "      <th>0</th>\n",
       "      <td>0</td>\n",
       "      <td>0</td>\n",
       "      <td>22.000000</td>\n",
       "      <td>1</td>\n",
       "      <td>0</td>\n",
       "      <td>7.2500</td>\n",
       "      <td>0</td>\n",
       "      <td>1</td>\n",
       "      <td>0</td>\n",
       "      <td>False</td>\n",
       "      <td>0</td>\n",
       "    </tr>\n",
       "    <tr>\n",
       "      <th>1</th>\n",
       "      <td>1</td>\n",
       "      <td>1</td>\n",
       "      <td>38.000000</td>\n",
       "      <td>1</td>\n",
       "      <td>0</td>\n",
       "      <td>71.2833</td>\n",
       "      <td>1</td>\n",
       "      <td>0</td>\n",
       "      <td>1</td>\n",
       "      <td>False</td>\n",
       "      <td>1</td>\n",
       "    </tr>\n",
       "    <tr>\n",
       "      <th>2</th>\n",
       "      <td>2</td>\n",
       "      <td>1</td>\n",
       "      <td>26.000000</td>\n",
       "      <td>0</td>\n",
       "      <td>0</td>\n",
       "      <td>7.9250</td>\n",
       "      <td>0</td>\n",
       "      <td>1</td>\n",
       "      <td>1</td>\n",
       "      <td>True</td>\n",
       "      <td>1</td>\n",
       "    </tr>\n",
       "    <tr>\n",
       "      <th>3</th>\n",
       "      <td>3</td>\n",
       "      <td>1</td>\n",
       "      <td>35.000000</td>\n",
       "      <td>1</td>\n",
       "      <td>0</td>\n",
       "      <td>53.1000</td>\n",
       "      <td>0</td>\n",
       "      <td>0</td>\n",
       "      <td>1</td>\n",
       "      <td>False</td>\n",
       "      <td>1</td>\n",
       "    </tr>\n",
       "    <tr>\n",
       "      <th>4</th>\n",
       "      <td>4</td>\n",
       "      <td>0</td>\n",
       "      <td>35.000000</td>\n",
       "      <td>0</td>\n",
       "      <td>0</td>\n",
       "      <td>8.0500</td>\n",
       "      <td>0</td>\n",
       "      <td>1</td>\n",
       "      <td>0</td>\n",
       "      <td>True</td>\n",
       "      <td>0</td>\n",
       "    </tr>\n",
       "    <tr>\n",
       "      <th>...</th>\n",
       "      <td>...</td>\n",
       "      <td>...</td>\n",
       "      <td>...</td>\n",
       "      <td>...</td>\n",
       "      <td>...</td>\n",
       "      <td>...</td>\n",
       "      <td>...</td>\n",
       "      <td>...</td>\n",
       "      <td>...</td>\n",
       "      <td>...</td>\n",
       "      <td>...</td>\n",
       "    </tr>\n",
       "    <tr>\n",
       "      <th>884</th>\n",
       "      <td>886</td>\n",
       "      <td>0</td>\n",
       "      <td>27.000000</td>\n",
       "      <td>0</td>\n",
       "      <td>0</td>\n",
       "      <td>13.0000</td>\n",
       "      <td>0</td>\n",
       "      <td>2</td>\n",
       "      <td>0</td>\n",
       "      <td>True</td>\n",
       "      <td>0</td>\n",
       "    </tr>\n",
       "    <tr>\n",
       "      <th>885</th>\n",
       "      <td>887</td>\n",
       "      <td>1</td>\n",
       "      <td>19.000000</td>\n",
       "      <td>0</td>\n",
       "      <td>0</td>\n",
       "      <td>30.0000</td>\n",
       "      <td>0</td>\n",
       "      <td>0</td>\n",
       "      <td>1</td>\n",
       "      <td>True</td>\n",
       "      <td>1</td>\n",
       "    </tr>\n",
       "    <tr>\n",
       "      <th>886</th>\n",
       "      <td>888</td>\n",
       "      <td>1</td>\n",
       "      <td>29.699118</td>\n",
       "      <td>1</td>\n",
       "      <td>2</td>\n",
       "      <td>23.4500</td>\n",
       "      <td>0</td>\n",
       "      <td>1</td>\n",
       "      <td>1</td>\n",
       "      <td>False</td>\n",
       "      <td>0</td>\n",
       "    </tr>\n",
       "    <tr>\n",
       "      <th>887</th>\n",
       "      <td>889</td>\n",
       "      <td>0</td>\n",
       "      <td>26.000000</td>\n",
       "      <td>0</td>\n",
       "      <td>0</td>\n",
       "      <td>30.0000</td>\n",
       "      <td>1</td>\n",
       "      <td>0</td>\n",
       "      <td>0</td>\n",
       "      <td>True</td>\n",
       "      <td>1</td>\n",
       "    </tr>\n",
       "    <tr>\n",
       "      <th>888</th>\n",
       "      <td>890</td>\n",
       "      <td>0</td>\n",
       "      <td>32.000000</td>\n",
       "      <td>0</td>\n",
       "      <td>0</td>\n",
       "      <td>7.7500</td>\n",
       "      <td>2</td>\n",
       "      <td>1</td>\n",
       "      <td>0</td>\n",
       "      <td>True</td>\n",
       "      <td>0</td>\n",
       "    </tr>\n",
       "  </tbody>\n",
       "</table>\n",
       "<p>889 rows × 11 columns</p>\n",
       "</div>"
      ],
      "text/plain": [
       "     Unnamed: 0  sex        age  sibsp  parch     fare  embarked  class  who  \\\n",
       "0             0    0  22.000000      1      0   7.2500         0      1    0   \n",
       "1             1    1  38.000000      1      0  71.2833         1      0    1   \n",
       "2             2    1  26.000000      0      0   7.9250         0      1    1   \n",
       "3             3    1  35.000000      1      0  53.1000         0      0    1   \n",
       "4             4    0  35.000000      0      0   8.0500         0      1    0   \n",
       "..          ...  ...        ...    ...    ...      ...       ...    ...  ...   \n",
       "884         886    0  27.000000      0      0  13.0000         0      2    0   \n",
       "885         887    1  19.000000      0      0  30.0000         0      0    1   \n",
       "886         888    1  29.699118      1      2  23.4500         0      1    1   \n",
       "887         889    0  26.000000      0      0  30.0000         1      0    0   \n",
       "888         890    0  32.000000      0      0   7.7500         2      1    0   \n",
       "\n",
       "     alone  survived  \n",
       "0    False         0  \n",
       "1    False         1  \n",
       "2     True         1  \n",
       "3    False         1  \n",
       "4     True         0  \n",
       "..     ...       ...  \n",
       "884   True         0  \n",
       "885   True         1  \n",
       "886  False         0  \n",
       "887   True         1  \n",
       "888   True         0  \n",
       "\n",
       "[889 rows x 11 columns]"
      ]
     },
     "execution_count": 2,
     "metadata": {},
     "output_type": "execute_result"
    }
   ],
   "source": [
    "df"
   ]
  },
  {
   "cell_type": "code",
   "execution_count": 3,
   "id": "6f596254",
   "metadata": {},
   "outputs": [
    {
     "name": "stdout",
     "output_type": "stream",
     "text": [
      "     Unnamed: 0  sex        age  survived\n",
      "0             0    0  22.000000         0\n",
      "1             1    1  38.000000         1\n",
      "2             2    1  26.000000         1\n",
      "3             3    1  35.000000         1\n",
      "4             4    0  35.000000         0\n",
      "..          ...  ...        ...       ...\n",
      "884         886    0  27.000000         0\n",
      "885         887    1  19.000000         1\n",
      "886         888    1  29.699118         0\n",
      "887         889    0  26.000000         1\n",
      "888         890    0  32.000000         0\n",
      "\n",
      "[889 rows x 4 columns]\n"
     ]
    }
   ],
   "source": [
    "# List of columns to drop\n",
    "columns_to_drop = ['sibsp', 'parch', 'embarked', 'who', 'alone', 'class', 'fare' ]\n",
    "\n",
    "# Drop the specified columns\n",
    "df.drop(columns=columns_to_drop, inplace=True)\n",
    "\n",
    "# Display the DataFrame after dropping columns\n",
    "print(df)"
   ]
  },
  {
   "cell_type": "code",
   "execution_count": 4,
   "id": "6a0fde74",
   "metadata": {},
   "outputs": [
    {
     "name": "stdout",
     "output_type": "stream",
     "text": [
      "0      0\n",
      "1      1\n",
      "2      1\n",
      "3      1\n",
      "4      0\n",
      "      ..\n",
      "884    0\n",
      "885    1\n",
      "886    0\n",
      "887    1\n",
      "888    0\n",
      "Name: survived, Length: 889, dtype: int64\n"
     ]
    }
   ],
   "source": [
    "target = df.survived\n",
    "print(target)"
   ]
  },
  {
   "cell_type": "code",
   "execution_count": 12,
   "id": "fdcf6df2",
   "metadata": {
    "scrolled": true
   },
   "outputs": [
    {
     "data": {
      "text/plain": [
       "Unnamed: 0    0\n",
       "sex           0\n",
       "age           0\n",
       "survived      0\n",
       "dtype: int64"
      ]
     },
     "execution_count": 12,
     "metadata": {},
     "output_type": "execute_result"
    }
   ],
   "source": [
    "df.isnull().sum()"
   ]
  },
  {
   "cell_type": "code",
   "execution_count": 6,
   "id": "500435c9",
   "metadata": {},
   "outputs": [],
   "source": [
    "from sklearn.model_selection import train_test_split\n",
    "X_train, X_test, Y_train, Y_test = train_test_split(df,target, test_size=0.3,random_state=21)"
   ]
  },
  {
   "cell_type": "code",
   "execution_count": 7,
   "id": "8e84b8e8",
   "metadata": {},
   "outputs": [
    {
     "data": {
      "text/plain": [
       "622"
      ]
     },
     "execution_count": 7,
     "metadata": {},
     "output_type": "execute_result"
    }
   ],
   "source": [
    "len(X_train)"
   ]
  },
  {
   "cell_type": "code",
   "execution_count": 8,
   "id": "5e5a642a",
   "metadata": {},
   "outputs": [
    {
     "data": {
      "text/plain": [
       "267"
      ]
     },
     "execution_count": 8,
     "metadata": {},
     "output_type": "execute_result"
    }
   ],
   "source": [
    "len(X_test)"
   ]
  },
  {
   "cell_type": "code",
   "execution_count": 9,
   "id": "4c860b1e",
   "metadata": {},
   "outputs": [
    {
     "data": {
      "text/plain": [
       "622"
      ]
     },
     "execution_count": 9,
     "metadata": {},
     "output_type": "execute_result"
    }
   ],
   "source": [
    "len(Y_train)"
   ]
  },
  {
   "cell_type": "code",
   "execution_count": 10,
   "id": "754bbc95",
   "metadata": {},
   "outputs": [
    {
     "data": {
      "text/plain": [
       "267"
      ]
     },
     "execution_count": 10,
     "metadata": {},
     "output_type": "execute_result"
    }
   ],
   "source": [
    "len(Y_test)"
   ]
  },
  {
   "cell_type": "code",
   "execution_count": 11,
   "id": "0830352e",
   "metadata": {},
   "outputs": [
    {
     "name": "stdout",
     "output_type": "stream",
     "text": [
      "Accuracy: 0.6254681647940075\n"
     ]
    }
   ],
   "source": [
    "import numpy as np\n",
    "from sklearn.model_selection import train_test_split\n",
    "from sklearn.metrics import accuracy_score\n",
    "\n",
    "class Perceptron:\n",
    "    def __init__(self, learning_rate, epochs):\n",
    "        self.weights = None\n",
    "        self.bias = None\n",
    "        self.learning_rate = learning_rate\n",
    "        self.epochs = epochs\n",
    "    \n",
    "    def activation(self, z):\n",
    "        return np.heaviside(z, 0)\n",
    "    \n",
    "    def fit(self, df, target):\n",
    "        n_samples, n_features = df.shape\n",
    "        self.weights = np.zeros(n_features)\n",
    "        self.bias = 0\n",
    "        \n",
    "        for epoch in range(self.epochs):\n",
    "            for i in range(n_samples):\n",
    "                z = np.dot(df.iloc[i], self.weights) + self.bias\n",
    "                y_pred = self.activation(z)\n",
    "                \n",
    "                # Update weights and bias\n",
    "                self.weights += self.learning_rate * y_pred * df.iloc[i]\n",
    "                self.bias += self.learning_rate * y_pred\n",
    "\n",
    "    def predict(self, df):\n",
    "        z = np.dot(df, self.weights) + self.bias\n",
    "        return self.activation(z)\n",
    "\n",
    "\n",
    "X_train, X_test, Y_train, Y_test = train_test_split(df, target, test_size=0.3, random_state=42)\n",
    "perceptron = Perceptron(0.01, 10)\n",
    "perceptron.fit(X_train, Y_train)\n",
    "pred = perceptron.predict(X_test)\n",
    "\n",
    "accuracy = accuracy_score(Y_test, pred)\n",
    "print(\"Accuracy:\", accuracy)\n"
   ]
  },
  {
   "cell_type": "code",
   "execution_count": 14,
   "id": "506acc5b",
   "metadata": {},
   "outputs": [
    {
     "name": "stdout",
     "output_type": "stream",
     "text": [
      "Accuracy: 0.6254681647940075\n",
      "Precision: 0.0\n",
      "Recall: 0.0\n"
     ]
    }
   ],
   "source": [
    "import numpy as np\n",
    "from sklearn.model_selection import train_test_split\n",
    "from sklearn.metrics import accuracy_score, precision_score, recall_score\n",
    "\n",
    "class Perceptron:\n",
    "    def __init__(self, learning_rate, epochs):\n",
    "        self.weights = None\n",
    "        self.bias = None\n",
    "        self.learning_rate = learning_rate\n",
    "        self.epochs = epochs\n",
    "    \n",
    "    def activation(self, z):\n",
    "        return np.heaviside(z, 0)\n",
    "    \n",
    "    def fit(self, df, target):\n",
    "        n_samples, n_features = df.shape\n",
    "        self.weights = np.zeros(n_features)\n",
    "        self.bias = 0\n",
    "        \n",
    "        for epoch in range(self.epochs):\n",
    "            for i in range(n_samples):\n",
    "                z = np.dot(df.iloc[i], self.weights) + self.bias\n",
    "                y_pred = self.activation(z)\n",
    "                \n",
    "                # Update weights and bias\n",
    "                self.weights += self.learning_rate * y_pred * df.iloc[i]\n",
    "                self.bias += self.learning_rate * y_pred\n",
    "\n",
    "    def predict(self, df):\n",
    "        z = np.dot(df, self.weights) + self.bias\n",
    "        return self.activation(z)\n",
    "\n",
    "X_train, X_test, Y_train, Y_test = train_test_split(df, target, test_size=0.3, random_state=42)\n",
    "perceptron = Perceptron(0.01, 10)\n",
    "perceptron.fit(X_train, Y_train)\n",
    "pred = perceptron.predict(X_test)\n",
    "\n",
    "accuracy = accuracy_score(Y_test, pred)\n",
    "precision = precision_score(Y_test, pred, zero_division=0)  # Set zero_division to 0\n",
    "recall = recall_score(Y_test, pred)\n",
    "\n",
    "print(\"Accuracy:\", accuracy)\n",
    "print(\"Precision:\", precision)\n",
    "print(\"Recall:\", recall)\n"
   ]
  },
  {
   "cell_type": "code",
   "execution_count": 22,
   "id": "1e805bde",
   "metadata": {},
   "outputs": [
    {
     "name": "stdout",
     "output_type": "stream",
     "text": [
      "Accuracy: 0.7303370786516854\n",
      "Precision: 0.6372549019607843\n",
      "Recall: 0.65\n"
     ]
    }
   ],
   "source": [
    "# Using Standard Scalar to get precision and recall\n",
    "import numpy as np\n",
    "import pandas as pd\n",
    "from sklearn.model_selection import train_test_split\n",
    "from sklearn.preprocessing import StandardScaler\n",
    "from sklearn.metrics import accuracy_score, precision_score, recall_score\n",
    "\n",
    "class Perceptron:\n",
    "    def __init__(self, learning_rate, epochs):\n",
    "        self.weights = None\n",
    "        self.bias = None\n",
    "        self.learning_rate = learning_rate\n",
    "        self.epochs = epochs\n",
    "    \n",
    "    def activation(self, z):\n",
    "        return np.heaviside(z, 0)\n",
    "    \n",
    "    def fit(self, X_train, Y_train):\n",
    "        n_samples, n_features = X_train.shape\n",
    "        self.weights = np.zeros(n_features)\n",
    "        self.bias = 0\n",
    "\n",
    "        for epoch in range(self.epochs):\n",
    "            for i in range(n_samples):\n",
    "                z = np.dot(X_train[i], self.weights) + self.bias\n",
    "                y_pred = self.activation(z)\n",
    "                \n",
    "                # Update weights and bias\n",
    "                self.weights += self.learning_rate * (Y_train.iloc[i] - y_pred) * X_train[i]\n",
    "                self.bias += self.learning_rate * (Y_train.iloc[i] - y_pred)\n",
    "\n",
    "    def predict(self, X_test):\n",
    "        z = np.dot(X_test, self.weights) + self.bias\n",
    "        return self.activation(z)\n",
    "\n",
    "df = pd.read_csv('C:\\\\Users\\\\91901\\\\Downloads\\\\cleaned_titanic (1).csv')\n",
    "target = df['survived']\n",
    "\n",
    "# Preprocessing\n",
    "scaler = StandardScaler()\n",
    "X_scaled = scaler.fit_transform(df.drop(columns=['survived'])) \n",
    "\n",
    "X_train, X_test, Y_train, Y_test = train_test_split(X_scaled, target, test_size=0.3, random_state=42)\n",
    "\n",
    "perceptron = Perceptron(0.01, 10)\n",
    "perceptron.fit(X_train, Y_train)\n",
    "pred = perceptron.predict(X_test)\n",
    "\n",
    "accuracy = accuracy_score(Y_test, pred)\n",
    "precision = precision_score(Y_test, pred)\n",
    "recall = recall_score(Y_test, pred)\n",
    "\n",
    "print(\"Accuracy:\", accuracy)\n",
    "print(\"Precision:\", precision)\n",
    "print(\"Recall:\", recall)\n"
   ]
  },
  {
   "cell_type": "code",
   "execution_count": 23,
   "id": "948bca00",
   "metadata": {},
   "outputs": [
    {
     "name": "stdout",
     "output_type": "stream",
     "text": [
      "Best Hyperparameters: {'alpha': 0.01, 'early_stopping': True, 'eta0': 1.0, 'max_iter': 100, 'penalty': 'elasticnet'}\n",
      "Accuracy: 0.7415730337078652\n"
     ]
    }
   ],
   "source": [
    "import numpy as np\n",
    "import pandas as pd\n",
    "from sklearn.model_selection import train_test_split, GridSearchCV\n",
    "from sklearn.preprocessing import StandardScaler\n",
    "from sklearn.linear_model import Perceptron\n",
    "from sklearn.metrics import accuracy_score\n",
    "\n",
    "# Load the Titanic dataset\n",
    "df = pd.read_csv('C:\\\\Users\\\\91901\\\\Downloads\\\\cleaned_titanic (1).csv')\n",
    "\n",
    "X = df.drop(columns=['survived'])\n",
    "y = df['survived']\n",
    "\n",
    "# Split the data into training and testing datasets\n",
    "X_train, X_test, y_train, y_test = train_test_split(X, y, test_size=0.3, random_state=42)\n",
    "\n",
    "# Standardize features\n",
    "scaler = StandardScaler()\n",
    "X_train_scaled = scaler.fit_transform(X_train)\n",
    "X_test_scaled = scaler.transform(X_test)\n",
    "\n",
    "# Define hyperparameters grid\n",
    "param_grid = {\n",
    "    'penalty': [None, 'l2', 'l1', 'elasticnet'],\n",
    "    'alpha': [0.0001, 0.001, 0.01],\n",
    "    'max_iter': [100, 200, 300],\n",
    "    'eta0': [0.01, 0.1, 1.0],\n",
    "    'early_stopping': [True, False]\n",
    "}\n",
    "\n",
    "# Initialize Perceptron model\n",
    "perceptron = Perceptron()\n",
    "\n",
    "# Perform GridSearchCV\n",
    "grid_search = GridSearchCV(perceptron, param_grid, cv=5, scoring='accuracy')\n",
    "grid_search.fit(X_train_scaled, y_train)\n",
    "\n",
    "# Print best hyperparameters\n",
    "print(\"Best Hyperparameters:\", grid_search.best_params_)\n",
    "\n",
    "# Evaluate the model on the test set\n",
    "y_pred = grid_search.predict(X_test_scaled)\n",
    "accuracy = accuracy_score(y_test, y_pred)\n",
    "print(\"Accuracy:\", accuracy)\n"
   ]
  }
 ],
 "metadata": {
  "kernelspec": {
   "display_name": "Python 3",
   "language": "python",
   "name": "python3"
  },
  "language_info": {
   "codemirror_mode": {
    "name": "ipython",
    "version": 3
   },
   "file_extension": ".py",
   "mimetype": "text/x-python",
   "name": "python",
   "nbconvert_exporter": "python",
   "pygments_lexer": "ipython3",
   "version": "3.8.8"
  }
 },
 "nbformat": 4,
 "nbformat_minor": 5
}
